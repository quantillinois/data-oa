{
 "cells": [
  {
   "cell_type": "markdown",
   "id": "2532726f",
   "metadata": {},
   "source": [
    "# <u>Analyzing Consumer Complaints from Financial Corporations/Institutions<u>"
   ]
  },
  {
   "cell_type": "markdown",
   "id": "5f270b27",
   "metadata": {},
   "source": [
    "## Introduction:\n",
    "In this notebook I will be analyzing the counts and percentage of **disputed** customer complaints with regard to financial institutions, states and financial products along with a quick and dirty machine learning model to give a rough prediction of when the disputes will occur"
   ]
  },
  {
   "cell_type": "markdown",
   "id": "dd4e748c",
   "metadata": {},
   "source": [
    "## Getting Required Packages:"
   ]
  },
  {
   "cell_type": "code",
   "execution_count": 55,
   "id": "0060a11a",
   "metadata": {},
   "outputs": [
    {
     "name": "stdout",
     "output_type": "stream",
     "text": [
      "Requirement already satisfied: xgboost in /Users/aryanvakharia/opt/anaconda3/lib/python3.9/site-packages (1.6.2)\n",
      "Requirement already satisfied: numpy in /Users/aryanvakharia/opt/anaconda3/lib/python3.9/site-packages (from xgboost) (1.21.5)\n",
      "Requirement already satisfied: scipy in /Users/aryanvakharia/opt/anaconda3/lib/python3.9/site-packages (from xgboost) (1.7.3)\n",
      "\n",
      "\u001b[1m[\u001b[0m\u001b[34;49mnotice\u001b[0m\u001b[1;39;49m]\u001b[0m\u001b[39;49m A new release of pip available: \u001b[0m\u001b[31;49m22.1.2\u001b[0m\u001b[39;49m -> \u001b[0m\u001b[32;49m22.2.2\u001b[0m\n",
      "\u001b[1m[\u001b[0m\u001b[34;49mnotice\u001b[0m\u001b[1;39;49m]\u001b[0m\u001b[39;49m To update, run: \u001b[0m\u001b[32;49mpip install --upgrade pip\u001b[0m\n",
      "Note: you may need to restart the kernel to use updated packages.\n"
     ]
    }
   ],
   "source": [
    "%pip install xgboost\n",
    "\n",
    "import pandas as pd\n",
    "import numpy as np\n",
    "import matplotlib.pyplot as plt\n",
    "from sklearn.preprocessing import MinMaxScaler\n",
    "from sklearn.impute import SimpleImputer\n",
    "from sklearn.linear_model import LogisticRegression\n",
    "from sklearn.tree import DecisionTreeClassifier\n",
    "import xgboost as xgb\n",
    "from sklearn.model_selection import train_test_split, StratifiedShuffleSplit\n",
    "from sklearn.metrics import accuracy_score, plot_confusion_matrix, classification_report\n",
    "\n",
    "%matplotlib inline"
   ]
  },
  {
   "cell_type": "markdown",
   "id": "53fc5391",
   "metadata": {},
   "source": [
    "## Importing and Cleaning Data"
   ]
  },
  {
   "cell_type": "code",
   "execution_count": 2,
   "id": "f92ee33a",
   "metadata": {},
   "outputs": [
    {
     "data": {
      "text/html": [
       "<div>\n",
       "<style scoped>\n",
       "    .dataframe tbody tr th:only-of-type {\n",
       "        vertical-align: middle;\n",
       "    }\n",
       "\n",
       "    .dataframe tbody tr th {\n",
       "        vertical-align: top;\n",
       "    }\n",
       "\n",
       "    .dataframe thead th {\n",
       "        text-align: right;\n",
       "    }\n",
       "</style>\n",
       "<table border=\"1\" class=\"dataframe\">\n",
       "  <thead>\n",
       "    <tr style=\"text-align: right;\">\n",
       "      <th></th>\n",
       "      <th>date_received</th>\n",
       "      <th>product</th>\n",
       "      <th>sub_product</th>\n",
       "      <th>issue</th>\n",
       "      <th>sub_issue</th>\n",
       "      <th>consumer_complaint_narrative</th>\n",
       "      <th>company_public_response</th>\n",
       "      <th>company</th>\n",
       "      <th>state</th>\n",
       "      <th>zipcode</th>\n",
       "      <th>tags</th>\n",
       "      <th>consumer_consent_provided</th>\n",
       "      <th>submitted_via</th>\n",
       "      <th>date_sent_to_company</th>\n",
       "      <th>company_response_to_consumer</th>\n",
       "      <th>timely_response</th>\n",
       "      <th>consumer_disputed?</th>\n",
       "      <th>complaint_id</th>\n",
       "    </tr>\n",
       "  </thead>\n",
       "  <tbody>\n",
       "    <tr>\n",
       "      <th>0</th>\n",
       "      <td>2013-08-30</td>\n",
       "      <td>Mortgage</td>\n",
       "      <td>Other mortgage</td>\n",
       "      <td>Loan modification,collection,foreclosure</td>\n",
       "      <td>NaN</td>\n",
       "      <td>NaN</td>\n",
       "      <td>NaN</td>\n",
       "      <td>U.S. Bancorp</td>\n",
       "      <td>CA</td>\n",
       "      <td>95993</td>\n",
       "      <td>NaN</td>\n",
       "      <td>NaN</td>\n",
       "      <td>Referral</td>\n",
       "      <td>2013-09-03</td>\n",
       "      <td>Closed with explanation</td>\n",
       "      <td>Yes</td>\n",
       "      <td>Yes</td>\n",
       "      <td>511074</td>\n",
       "    </tr>\n",
       "    <tr>\n",
       "      <th>1</th>\n",
       "      <td>2013-08-30</td>\n",
       "      <td>Mortgage</td>\n",
       "      <td>Other mortgage</td>\n",
       "      <td>Loan servicing, payments, escrow account</td>\n",
       "      <td>NaN</td>\n",
       "      <td>NaN</td>\n",
       "      <td>NaN</td>\n",
       "      <td>Wells Fargo &amp; Company</td>\n",
       "      <td>CA</td>\n",
       "      <td>91104</td>\n",
       "      <td>NaN</td>\n",
       "      <td>NaN</td>\n",
       "      <td>Referral</td>\n",
       "      <td>2013-09-03</td>\n",
       "      <td>Closed with explanation</td>\n",
       "      <td>Yes</td>\n",
       "      <td>Yes</td>\n",
       "      <td>511080</td>\n",
       "    </tr>\n",
       "    <tr>\n",
       "      <th>2</th>\n",
       "      <td>2013-08-30</td>\n",
       "      <td>Credit reporting</td>\n",
       "      <td>NaN</td>\n",
       "      <td>Incorrect information on credit report</td>\n",
       "      <td>Account status</td>\n",
       "      <td>NaN</td>\n",
       "      <td>NaN</td>\n",
       "      <td>Wells Fargo &amp; Company</td>\n",
       "      <td>NY</td>\n",
       "      <td>11764</td>\n",
       "      <td>NaN</td>\n",
       "      <td>NaN</td>\n",
       "      <td>Postal mail</td>\n",
       "      <td>2013-09-18</td>\n",
       "      <td>Closed with explanation</td>\n",
       "      <td>Yes</td>\n",
       "      <td>No</td>\n",
       "      <td>510473</td>\n",
       "    </tr>\n",
       "    <tr>\n",
       "      <th>3</th>\n",
       "      <td>2013-08-30</td>\n",
       "      <td>Student loan</td>\n",
       "      <td>Non-federal student loan</td>\n",
       "      <td>Repaying your loan</td>\n",
       "      <td>Repaying your loan</td>\n",
       "      <td>NaN</td>\n",
       "      <td>NaN</td>\n",
       "      <td>Navient Solutions, Inc.</td>\n",
       "      <td>MD</td>\n",
       "      <td>21402</td>\n",
       "      <td>NaN</td>\n",
       "      <td>NaN</td>\n",
       "      <td>Email</td>\n",
       "      <td>2013-08-30</td>\n",
       "      <td>Closed with explanation</td>\n",
       "      <td>Yes</td>\n",
       "      <td>Yes</td>\n",
       "      <td>510326</td>\n",
       "    </tr>\n",
       "    <tr>\n",
       "      <th>4</th>\n",
       "      <td>2013-08-30</td>\n",
       "      <td>Debt collection</td>\n",
       "      <td>Credit card</td>\n",
       "      <td>False statements or representation</td>\n",
       "      <td>Attempted to collect wrong amount</td>\n",
       "      <td>NaN</td>\n",
       "      <td>NaN</td>\n",
       "      <td>Resurgent Capital Services L.P.</td>\n",
       "      <td>GA</td>\n",
       "      <td>30106</td>\n",
       "      <td>NaN</td>\n",
       "      <td>NaN</td>\n",
       "      <td>Web</td>\n",
       "      <td>2013-08-30</td>\n",
       "      <td>Closed with explanation</td>\n",
       "      <td>Yes</td>\n",
       "      <td>Yes</td>\n",
       "      <td>511067</td>\n",
       "    </tr>\n",
       "  </tbody>\n",
       "</table>\n",
       "</div>"
      ],
      "text/plain": [
       "  date_received           product               sub_product  \\\n",
       "0    2013-08-30          Mortgage            Other mortgage   \n",
       "1    2013-08-30          Mortgage            Other mortgage   \n",
       "2    2013-08-30  Credit reporting                       NaN   \n",
       "3    2013-08-30      Student loan  Non-federal student loan   \n",
       "4    2013-08-30   Debt collection               Credit card   \n",
       "\n",
       "                                      issue  \\\n",
       "0  Loan modification,collection,foreclosure   \n",
       "1  Loan servicing, payments, escrow account   \n",
       "2    Incorrect information on credit report   \n",
       "3                        Repaying your loan   \n",
       "4        False statements or representation   \n",
       "\n",
       "                           sub_issue consumer_complaint_narrative  \\\n",
       "0                                NaN                          NaN   \n",
       "1                                NaN                          NaN   \n",
       "2                     Account status                          NaN   \n",
       "3                 Repaying your loan                          NaN   \n",
       "4  Attempted to collect wrong amount                          NaN   \n",
       "\n",
       "  company_public_response                          company state zipcode tags  \\\n",
       "0                     NaN                     U.S. Bancorp    CA   95993  NaN   \n",
       "1                     NaN            Wells Fargo & Company    CA   91104  NaN   \n",
       "2                     NaN            Wells Fargo & Company    NY   11764  NaN   \n",
       "3                     NaN          Navient Solutions, Inc.    MD   21402  NaN   \n",
       "4                     NaN  Resurgent Capital Services L.P.    GA   30106  NaN   \n",
       "\n",
       "  consumer_consent_provided submitted_via date_sent_to_company  \\\n",
       "0                       NaN      Referral           2013-09-03   \n",
       "1                       NaN      Referral           2013-09-03   \n",
       "2                       NaN   Postal mail           2013-09-18   \n",
       "3                       NaN         Email           2013-08-30   \n",
       "4                       NaN           Web           2013-08-30   \n",
       "\n",
       "  company_response_to_consumer timely_response consumer_disputed?  \\\n",
       "0      Closed with explanation             Yes                Yes   \n",
       "1      Closed with explanation             Yes                Yes   \n",
       "2      Closed with explanation             Yes                 No   \n",
       "3      Closed with explanation             Yes                Yes   \n",
       "4      Closed with explanation             Yes                Yes   \n",
       "\n",
       "   complaint_id  \n",
       "0        511074  \n",
       "1        511080  \n",
       "2        510473  \n",
       "3        510326  \n",
       "4        511067  "
      ]
     },
     "execution_count": 2,
     "metadata": {},
     "output_type": "execute_result"
    }
   ],
   "source": [
    "df = pd.read_csv('consumer_complaints.csv', parse_dates=['date_received', 'date_sent_to_company'], low_memory=False)\n",
    "df.head()"
   ]
  },
  {
   "cell_type": "markdown",
   "id": "88e39fd7",
   "metadata": {},
   "source": [
    "Having a clean dataset allows for higher accuracy in visualizing, analyzing and in this case predicting on the dataset. In order to make the most efficient use of the above data, I am checking for the number of empty/NaN rows:"
   ]
  },
  {
   "cell_type": "code",
   "execution_count": 3,
   "id": "73bf52d6",
   "metadata": {},
   "outputs": [
    {
     "data": {
      "text/plain": [
       "date_received                        0\n",
       "product                              0\n",
       "sub_product                     158322\n",
       "issue                                0\n",
       "sub_issue                       343335\n",
       "consumer_complaint_narrative    489151\n",
       "company_public_response         470833\n",
       "company                              0\n",
       "state                             4887\n",
       "zipcode                           4505\n",
       "tags                            477998\n",
       "consumer_consent_provided       432499\n",
       "submitted_via                        0\n",
       "date_sent_to_company                 0\n",
       "company_response_to_consumer         0\n",
       "timely_response                      0\n",
       "consumer_disputed?                   0\n",
       "complaint_id                         0\n",
       "dtype: int64"
      ]
     },
     "execution_count": 3,
     "metadata": {},
     "output_type": "execute_result"
    }
   ],
   "source": [
    "#Check NaNs\n",
    "df.isna().sum()"
   ]
  },
  {
   "cell_type": "markdown",
   "id": "e8db998a",
   "metadata": {},
   "source": [
    "From the above output it is evident that the dataset if populated with many NaNs. However, removing all NaN values can cause overfitting in the prediction model and inaccuracies in the data analysis.\n",
    "\n",
    "So, keeping threshold of *column contains >= 10% NaNs* we will clean each column"
   ]
  },
  {
   "cell_type": "code",
   "execution_count": 4,
   "id": "45eebff3",
   "metadata": {},
   "outputs": [
    {
     "data": {
      "text/plain": [
       "sub_product                     0.284774\n",
       "sub_issue                       0.617557\n",
       "consumer_complaint_narrative    0.879836\n",
       "company_public_response         0.846887\n",
       "tags                            0.859775\n",
       "consumer_consent_provided       0.777936\n",
       "dtype: float64"
      ]
     },
     "execution_count": 4,
     "metadata": {},
     "output_type": "execute_result"
    }
   ],
   "source": [
    "thresh = 0.10\n",
    "col_nans = df.isna().mean(axis=0)\n",
    "col_w_thresh = col_nans[col_nans >= thresh]\n",
    "col_w_thresh"
   ]
  },
  {
   "cell_type": "markdown",
   "id": "dee366ce",
   "metadata": {},
   "source": [
    "The above columns will now be dropped as they have too many NaNs to have any use in our dataset.\n",
    "\n",
    "*NOTE:* Along with these, the *complaint_id* column will aso be dropped for not being relevant in our analysis"
   ]
  },
  {
   "cell_type": "code",
   "execution_count": 5,
   "id": "252d522a",
   "metadata": {},
   "outputs": [
    {
     "data": {
      "text/html": [
       "<div>\n",
       "<style scoped>\n",
       "    .dataframe tbody tr th:only-of-type {\n",
       "        vertical-align: middle;\n",
       "    }\n",
       "\n",
       "    .dataframe tbody tr th {\n",
       "        vertical-align: top;\n",
       "    }\n",
       "\n",
       "    .dataframe thead th {\n",
       "        text-align: right;\n",
       "    }\n",
       "</style>\n",
       "<table border=\"1\" class=\"dataframe\">\n",
       "  <thead>\n",
       "    <tr style=\"text-align: right;\">\n",
       "      <th></th>\n",
       "      <th>date_received</th>\n",
       "      <th>product</th>\n",
       "      <th>issue</th>\n",
       "      <th>company</th>\n",
       "      <th>state</th>\n",
       "      <th>zipcode</th>\n",
       "      <th>submitted_via</th>\n",
       "      <th>date_sent_to_company</th>\n",
       "      <th>company_response_to_consumer</th>\n",
       "      <th>timely_response</th>\n",
       "      <th>consumer_disputed?</th>\n",
       "    </tr>\n",
       "  </thead>\n",
       "  <tbody>\n",
       "    <tr>\n",
       "      <th>0</th>\n",
       "      <td>2013-08-30</td>\n",
       "      <td>Mortgage</td>\n",
       "      <td>Loan modification,collection,foreclosure</td>\n",
       "      <td>U.S. Bancorp</td>\n",
       "      <td>CA</td>\n",
       "      <td>95993</td>\n",
       "      <td>Referral</td>\n",
       "      <td>2013-09-03</td>\n",
       "      <td>1</td>\n",
       "      <td>1</td>\n",
       "      <td>1</td>\n",
       "    </tr>\n",
       "    <tr>\n",
       "      <th>1</th>\n",
       "      <td>2013-08-30</td>\n",
       "      <td>Mortgage</td>\n",
       "      <td>Loan servicing, payments, escrow account</td>\n",
       "      <td>Wells Fargo &amp; Company</td>\n",
       "      <td>CA</td>\n",
       "      <td>91104</td>\n",
       "      <td>Referral</td>\n",
       "      <td>2013-09-03</td>\n",
       "      <td>1</td>\n",
       "      <td>1</td>\n",
       "      <td>1</td>\n",
       "    </tr>\n",
       "    <tr>\n",
       "      <th>2</th>\n",
       "      <td>2013-08-30</td>\n",
       "      <td>Credit reporting</td>\n",
       "      <td>Incorrect information on credit report</td>\n",
       "      <td>Wells Fargo &amp; Company</td>\n",
       "      <td>NY</td>\n",
       "      <td>11764</td>\n",
       "      <td>Postal mail</td>\n",
       "      <td>2013-09-18</td>\n",
       "      <td>1</td>\n",
       "      <td>1</td>\n",
       "      <td>0</td>\n",
       "    </tr>\n",
       "    <tr>\n",
       "      <th>3</th>\n",
       "      <td>2013-08-30</td>\n",
       "      <td>Student loan</td>\n",
       "      <td>Repaying your loan</td>\n",
       "      <td>Navient Solutions, Inc.</td>\n",
       "      <td>MD</td>\n",
       "      <td>21402</td>\n",
       "      <td>Email</td>\n",
       "      <td>2013-08-30</td>\n",
       "      <td>1</td>\n",
       "      <td>1</td>\n",
       "      <td>1</td>\n",
       "    </tr>\n",
       "    <tr>\n",
       "      <th>4</th>\n",
       "      <td>2013-08-30</td>\n",
       "      <td>Debt collection</td>\n",
       "      <td>False statements or representation</td>\n",
       "      <td>Resurgent Capital Services L.P.</td>\n",
       "      <td>GA</td>\n",
       "      <td>30106</td>\n",
       "      <td>Web</td>\n",
       "      <td>2013-08-30</td>\n",
       "      <td>1</td>\n",
       "      <td>1</td>\n",
       "      <td>1</td>\n",
       "    </tr>\n",
       "  </tbody>\n",
       "</table>\n",
       "</div>"
      ],
      "text/plain": [
       "  date_received           product                                     issue  \\\n",
       "0    2013-08-30          Mortgage  Loan modification,collection,foreclosure   \n",
       "1    2013-08-30          Mortgage  Loan servicing, payments, escrow account   \n",
       "2    2013-08-30  Credit reporting    Incorrect information on credit report   \n",
       "3    2013-08-30      Student loan                        Repaying your loan   \n",
       "4    2013-08-30   Debt collection        False statements or representation   \n",
       "\n",
       "                           company state zipcode submitted_via  \\\n",
       "0                     U.S. Bancorp    CA   95993      Referral   \n",
       "1            Wells Fargo & Company    CA   91104      Referral   \n",
       "2            Wells Fargo & Company    NY   11764   Postal mail   \n",
       "3          Navient Solutions, Inc.    MD   21402         Email   \n",
       "4  Resurgent Capital Services L.P.    GA   30106           Web   \n",
       "\n",
       "  date_sent_to_company company_response_to_consumer  timely_response  \\\n",
       "0           2013-09-03                            1                1   \n",
       "1           2013-09-03                            1                1   \n",
       "2           2013-09-18                            1                1   \n",
       "3           2013-08-30                            1                1   \n",
       "4           2013-08-30                            1                1   \n",
       "\n",
       "   consumer_disputed?  \n",
       "0                   1  \n",
       "1                   1  \n",
       "2                   0  \n",
       "3                   1  \n",
       "4                   1  "
      ]
     },
     "execution_count": 5,
     "metadata": {},
     "output_type": "execute_result"
    }
   ],
   "source": [
    "drops_l = list(col_w_thresh.index) + ['complaint_id']\n",
    "df = df.drop(drops_l, axis=1)\n",
    "\n",
    "#Tokenizing Yes and No to 1 and 0 respectively\n",
    "df = df.replace(['Yes', 'No'], [1, 0])\n",
    "\n",
    "#Also tokenizing company response for easier NLP classification\n",
    "df.loc[df['company_response_to_consumer'].str.contains(\"Closed\"), 'company_response_to_consumer'] = 1\n",
    "df.loc[df['company_response_to_consumer'] != 1, 'company_response_to_consumer'] = 0\n",
    "df.head()"
   ]
  },
  {
   "cell_type": "markdown",
   "id": "0e9dee79",
   "metadata": {},
   "source": [
    "## Data Analysis and Visualization:\n",
    "Since I will be mainly checking the count AND rate of disputed issues, the following functions will be used to get these metrics as a DataFrame:\n",
    "\n",
    "(*NOTE: Since the data being analysed is categorical I will mostly be using bar graphs*)"
   ]
  },
  {
   "cell_type": "code",
   "execution_count": 6,
   "id": "08b7d908",
   "metadata": {},
   "outputs": [],
   "source": [
    "def is_disputed(row, cat):\n",
    "    return df[(df['consumer_disputed?'] == 1) & (df[cat] == row[cat])]['consumer_disputed?'].sum()\n",
    "\n",
    "def get_count(cat, data=df):\n",
    "    df_by_cat = df[[cat, 'issue', 'consumer_disputed?']].groupby([cat]).count().reset_index()\n",
    "    \n",
    "    df_by_cat['consumer_disputed?'] = df_by_cat.apply(lambda r: is_disputed(r, cat), axis=1)\n",
    "    \n",
    "    df_by_cat['dispute_rate'] = df_by_cat.apply(lambda r: (r['consumer_disputed?'] / r['issue']) * 100, axis=1)\n",
    "    \n",
    "    return df_by_cat"
   ]
  },
  {
   "cell_type": "markdown",
   "id": "6693cced",
   "metadata": {},
   "source": [
    "### Disputes according to State:"
   ]
  },
  {
   "cell_type": "code",
   "execution_count": 29,
   "id": "d6ad5d11",
   "metadata": {},
   "outputs": [
    {
     "name": "stdout",
     "output_type": "stream",
     "text": [
      "State is CA with max disputes: 17615\n"
     ]
    }
   ],
   "source": [
    "#State with most disputes using above function:\n",
    "disp_st = get_count('state')\n",
    "st_c = disp_st['consumer_disputed?']\n",
    "m_st = disp_st['state'][pd.Series.argmax(st_c)]\n",
    "m_c = disp_st['consumer_disputed?'][pd.Series.argmax(st_c)]\n",
    "print(\"State is\", m_st, \"with max disputes:\", m_c)"
   ]
  },
  {
   "cell_type": "code",
   "execution_count": 8,
   "id": "6f0729b6",
   "metadata": {},
   "outputs": [
    {
     "data": {
      "text/plain": [
       "Text(0.5, 1.0, 'Dispute counts per state')"
      ]
     },
     "execution_count": 8,
     "metadata": {},
     "output_type": "execute_result"
    },
    {
     "data": {
      "image/png": "[encoded data removed]",
      "text/plain": [
       "<Figure size 1440x648 with 1 Axes>"
      ]
     },
     "metadata": {
      "needs_background": "light"
     },
     "output_type": "display_data"
    }
   ],
   "source": [
    "fig1, ax1 = plt.subplots(figsize=(20, 9))\n",
    "ax1.bar(disp_st['state'], disp_st['consumer_disputed?'])\n",
    "ax1.set_xlabel(\"State\")\n",
    "ax1.set_ylabel(\"Disputed issue counts\")\n",
    "ax1.set_title(\"Dispute counts per state\")"
   ]
  },
  {
   "cell_type": "code",
   "execution_count": 9,
   "id": "6dfa6225",
   "metadata": {},
   "outputs": [
    {
     "data": {
      "text/plain": [
       "Text(0.5, 1.0, 'Dispute rates per state')"
      ]
     },
     "execution_count": 9,
     "metadata": {},
     "output_type": "execute_result"
    },
    {
     "data": {
      "image/png": "[encoded data removed]",
      "text/plain": [
       "<Figure size 1440x648 with 1 Axes>"
      ]
     },
     "metadata": {
      "needs_background": "light"
     },
     "output_type": "display_data"
    }
   ],
   "source": [
    "fig2, ax2 = plt.subplots(figsize=(20, 9))\n",
    "ax2.bar(disp_st['state'], disp_st['dispute_rate'])\n",
    "ax2.set_xlabel(\"State\")\n",
    "ax2.set_ylabel(\"Disputed issue rate(disputed count / issue count)\")\n",
    "ax2.set_title(\"Dispute rates per state\")"
   ]
  },
  {
   "cell_type": "code",
   "execution_count": 10,
   "id": "17ec819c",
   "metadata": {},
   "outputs": [],
   "source": [
    "#Getting count of issues per state with products\n",
    "state_issue_count = df[['state', 'product', 'issue']].groupby(['state', 'product', 'issue']).size().reset_index()\n",
    "state_issue_count.columns = ['state', 'product', 'issue', 'count']"
   ]
  },
  {
   "cell_type": "code",
   "execution_count": 11,
   "id": "15c92542",
   "metadata": {},
   "outputs": [
    {
     "data": {
      "text/html": [
       "<div>\n",
       "<style scoped>\n",
       "    .dataframe tbody tr th:only-of-type {\n",
       "        vertical-align: middle;\n",
       "    }\n",
       "\n",
       "    .dataframe tbody tr th {\n",
       "        vertical-align: top;\n",
       "    }\n",
       "\n",
       "    .dataframe thead th {\n",
       "        text-align: right;\n",
       "    }\n",
       "</style>\n",
       "<table border=\"1\" class=\"dataframe\">\n",
       "  <thead>\n",
       "    <tr style=\"text-align: right;\">\n",
       "      <th></th>\n",
       "      <th>state</th>\n",
       "      <th>product</th>\n",
       "      <th>issue</th>\n",
       "      <th>count</th>\n",
       "    </tr>\n",
       "  </thead>\n",
       "  <tbody>\n",
       "    <tr>\n",
       "      <th>501</th>\n",
       "      <td>CA</td>\n",
       "      <td>Mortgage</td>\n",
       "      <td>Loan modification,collection,foreclosure</td>\n",
       "      <td>19433</td>\n",
       "    </tr>\n",
       "    <tr>\n",
       "      <th>942</th>\n",
       "      <td>FL</td>\n",
       "      <td>Mortgage</td>\n",
       "      <td>Loan modification,collection,foreclosure</td>\n",
       "      <td>11337</td>\n",
       "    </tr>\n",
       "    <tr>\n",
       "      <th>502</th>\n",
       "      <td>CA</td>\n",
       "      <td>Mortgage</td>\n",
       "      <td>Loan servicing, payments, escrow account</td>\n",
       "      <td>8957</td>\n",
       "    </tr>\n",
       "    <tr>\n",
       "      <th>4028</th>\n",
       "      <td>TX</td>\n",
       "      <td>Credit reporting</td>\n",
       "      <td>Incorrect information on credit report</td>\n",
       "      <td>8712</td>\n",
       "    </tr>\n",
       "    <tr>\n",
       "      <th>485</th>\n",
       "      <td>CA</td>\n",
       "      <td>Credit reporting</td>\n",
       "      <td>Incorrect information on credit report</td>\n",
       "      <td>8585</td>\n",
       "    </tr>\n",
       "  </tbody>\n",
       "</table>\n",
       "</div>"
      ],
      "text/plain": [
       "     state           product                                     issue  count\n",
       "501     CA          Mortgage  Loan modification,collection,foreclosure  19433\n",
       "942     FL          Mortgage  Loan modification,collection,foreclosure  11337\n",
       "502     CA          Mortgage  Loan servicing, payments, escrow account   8957\n",
       "4028    TX  Credit reporting    Incorrect information on credit report   8712\n",
       "485     CA  Credit reporting    Incorrect information on credit report   8585"
      ]
     },
     "execution_count": 11,
     "metadata": {},
     "output_type": "execute_result"
    }
   ],
   "source": [
    "#States with 5 highest dispute counts, issues and product\n",
    "state_issue_count.sort_values(by = 'count', ascending = False).head()"
   ]
  },
  {
   "cell_type": "code",
   "execution_count": 12,
   "id": "63fa2a3a",
   "metadata": {},
   "outputs": [
    {
     "data": {
      "text/html": [
       "<div>\n",
       "<style scoped>\n",
       "    .dataframe tbody tr th:only-of-type {\n",
       "        vertical-align: middle;\n",
       "    }\n",
       "\n",
       "    .dataframe tbody tr th {\n",
       "        vertical-align: top;\n",
       "    }\n",
       "\n",
       "    .dataframe thead th {\n",
       "        text-align: right;\n",
       "    }\n",
       "</style>\n",
       "<table border=\"1\" class=\"dataframe\">\n",
       "  <thead>\n",
       "    <tr style=\"text-align: right;\">\n",
       "      <th></th>\n",
       "      <th>state</th>\n",
       "      <th>product</th>\n",
       "      <th>issue</th>\n",
       "      <th>count</th>\n",
       "    </tr>\n",
       "  </thead>\n",
       "  <tbody>\n",
       "    <tr>\n",
       "      <th>3083</th>\n",
       "      <td>NV</td>\n",
       "      <td>Prepaid card</td>\n",
       "      <td>Overdraft, savings or rewards features</td>\n",
       "      <td>1</td>\n",
       "    </tr>\n",
       "    <tr>\n",
       "      <th>347</th>\n",
       "      <td>AZ</td>\n",
       "      <td>Consumer Loan</td>\n",
       "      <td>Payment to acct not credited</td>\n",
       "      <td>1</td>\n",
       "    </tr>\n",
       "    <tr>\n",
       "      <th>344</th>\n",
       "      <td>AZ</td>\n",
       "      <td>Consumer Loan</td>\n",
       "      <td>Lender repossessed or sold the vehicle</td>\n",
       "      <td>1</td>\n",
       "    </tr>\n",
       "    <tr>\n",
       "      <th>1</th>\n",
       "      <td>AA</td>\n",
       "      <td>Credit card</td>\n",
       "      <td>Identity theft / Fraud / Embezzlement</td>\n",
       "      <td>1</td>\n",
       "    </tr>\n",
       "    <tr>\n",
       "      <th>0</th>\n",
       "      <td>AA</td>\n",
       "      <td>Bank account or service</td>\n",
       "      <td>Account opening, closing, or management</td>\n",
       "      <td>1</td>\n",
       "    </tr>\n",
       "  </tbody>\n",
       "</table>\n",
       "</div>"
      ],
      "text/plain": [
       "     state                  product                                    issue  \\\n",
       "3083    NV             Prepaid card   Overdraft, savings or rewards features   \n",
       "347     AZ            Consumer Loan             Payment to acct not credited   \n",
       "344     AZ            Consumer Loan   Lender repossessed or sold the vehicle   \n",
       "1       AA              Credit card    Identity theft / Fraud / Embezzlement   \n",
       "0       AA  Bank account or service  Account opening, closing, or management   \n",
       "\n",
       "      count  \n",
       "3083      1  \n",
       "347       1  \n",
       "344       1  \n",
       "1         1  \n",
       "0         1  "
      ]
     },
     "execution_count": 12,
     "metadata": {},
     "output_type": "execute_result"
    }
   ],
   "source": [
    "#States with 5 lowest dispute counts with related issues and products\n",
    "state_issue_count.sort_values(by = 'count', ascending = False).tail()"
   ]
  },
  {
   "cell_type": "markdown",
   "id": "eb748a29",
   "metadata": {},
   "source": [
    "### **Analysis**: \n",
    "As the above console output and bar graphs show, states with higher populations such as CA, NY, TX etc tend to have more disputes over financial issues. Moreover, West Coast states have a higher tendency to dipute complaints. Finally, Mortgage modifications and Credit reporting issues have caused the most disputed among the states \n",
    "\n",
    "Laws and operations regarding financial products and the companies headquartered in these states are areas which can be further analysed for why they yield such high issue counts for the a certain range of products."
   ]
  },
  {
   "cell_type": "markdown",
   "id": "f45775c1",
   "metadata": {},
   "source": [
    "### Disputes according to Product:"
   ]
  },
  {
   "cell_type": "code",
   "execution_count": 13,
   "id": "1b73be97",
   "metadata": {},
   "outputs": [],
   "source": [
    "disp_prod = get_count('product')"
   ]
  },
  {
   "cell_type": "code",
   "execution_count": 14,
   "id": "95b32810",
   "metadata": {},
   "outputs": [
    {
     "data": {
      "text/html": [
       "<div>\n",
       "<style scoped>\n",
       "    .dataframe tbody tr th:only-of-type {\n",
       "        vertical-align: middle;\n",
       "    }\n",
       "\n",
       "    .dataframe tbody tr th {\n",
       "        vertical-align: top;\n",
       "    }\n",
       "\n",
       "    .dataframe thead th {\n",
       "        text-align: right;\n",
       "    }\n",
       "</style>\n",
       "<table border=\"1\" class=\"dataframe\">\n",
       "  <thead>\n",
       "    <tr style=\"text-align: right;\">\n",
       "      <th></th>\n",
       "      <th>product</th>\n",
       "      <th>issue</th>\n",
       "      <th>count</th>\n",
       "    </tr>\n",
       "  </thead>\n",
       "  <tbody>\n",
       "    <tr>\n",
       "      <th>75</th>\n",
       "      <td>Mortgage</td>\n",
       "      <td>Loan modification,collection,foreclosure</td>\n",
       "      <td>97191</td>\n",
       "    </tr>\n",
       "    <tr>\n",
       "      <th>59</th>\n",
       "      <td>Credit reporting</td>\n",
       "      <td>Incorrect information on credit report</td>\n",
       "      <td>66718</td>\n",
       "    </tr>\n",
       "    <tr>\n",
       "      <th>76</th>\n",
       "      <td>Mortgage</td>\n",
       "      <td>Loan servicing, payments, escrow account</td>\n",
       "      <td>60375</td>\n",
       "    </tr>\n",
       "    <tr>\n",
       "      <th>62</th>\n",
       "      <td>Debt collection</td>\n",
       "      <td>Cont'd attempts collect debt not owed</td>\n",
       "      <td>42285</td>\n",
       "    </tr>\n",
       "    <tr>\n",
       "      <th>0</th>\n",
       "      <td>Bank account or service</td>\n",
       "      <td>Account opening, closing, or management</td>\n",
       "      <td>26661</td>\n",
       "    </tr>\n",
       "  </tbody>\n",
       "</table>\n",
       "</div>"
      ],
      "text/plain": [
       "                    product                                     issue  count\n",
       "75                 Mortgage  Loan modification,collection,foreclosure  97191\n",
       "59         Credit reporting    Incorrect information on credit report  66718\n",
       "76                 Mortgage  Loan servicing, payments, escrow account  60375\n",
       "62          Debt collection     Cont'd attempts collect debt not owed  42285\n",
       "0   Bank account or service   Account opening, closing, or management  26661"
      ]
     },
     "execution_count": 14,
     "metadata": {},
     "output_type": "execute_result"
    }
   ],
   "source": [
    "#Highest issues per product\n",
    "product_issue_count = df.groupby(['product', 'issue']).size().reset_index()\n",
    "product_issue_count.columns = ['product', 'issue', 'count']\n",
    "product_issue_count.sort_values(by = 'count', ascending=False).head()"
   ]
  },
  {
   "cell_type": "code",
   "execution_count": 15,
   "id": "cd258ff1",
   "metadata": {},
   "outputs": [
    {
     "data": {
      "text/plain": [
       "Text(0, 0.5, 'Product')"
      ]
     },
     "execution_count": 15,
     "metadata": {},
     "output_type": "execute_result"
    },
    {
     "data": {
      "image/png": "[encoded data removed]",
      "text/plain": [
       "<Figure size 1152x648 with 1 Axes>"
      ]
     },
     "metadata": {
      "needs_background": "light"
     },
     "output_type": "display_data"
    }
   ],
   "source": [
    "fig3, ax3 = plt.subplots(figsize=(16, 9))\n",
    "ax3.barh(disp_prod['product'], disp_prod['consumer_disputed?'])    \n",
    "\n",
    "ax3.set_title(\"Disputed issue counts per product\")\n",
    "ax3.set_xlabel('Disputed issue counts')\n",
    "ax3.set_ylabel('Product')"
   ]
  },
  {
   "cell_type": "code",
   "execution_count": 16,
   "id": "40b666b1",
   "metadata": {},
   "outputs": [
    {
     "data": {
      "text/plain": [
       "Text(0.5, 0, 'Disputed issue rate')"
      ]
     },
     "execution_count": 16,
     "metadata": {},
     "output_type": "execute_result"
    },
    {
     "data": {
      "image/png": "[encoded data removed]",
      "text/plain": [
       "<Figure size 1152x648 with 1 Axes>"
      ]
     },
     "metadata": {
      "needs_background": "light"
     },
     "output_type": "display_data"
    }
   ],
   "source": [
    "fig4, ax4 = plt.subplots(figsize=(16, 9))\n",
    "ax4.barh(disp_prod['product'], disp_prod['dispute_rate'])    \n",
    "\n",
    "ax4.set_title(\"Disputed issue rates per product\")\n",
    "ax4.set_ylabel('Product')\n",
    "ax4.set_xlabel('Disputed issue rate')"
   ]
  },
  {
   "cell_type": "markdown",
   "id": "61b80521",
   "metadata": {},
   "source": [
    "### Analysis:\n",
    "Using the same visualization it can be concluded that loan and credit related issues like *Mortgages, Credit Reporting, Student loans* etc are more likely to be disputed, meaning our company should be wary and prepared to efficiently face complicated customer service with such products"
   ]
  },
  {
   "cell_type": "markdown",
   "id": "32296070",
   "metadata": {},
   "source": [
    "### Disputes according to submission medium:"
   ]
  },
  {
   "cell_type": "code",
   "execution_count": 17,
   "id": "fd3459f9",
   "metadata": {},
   "outputs": [],
   "source": [
    "disp_med = get_count('submitted_via')"
   ]
  },
  {
   "cell_type": "code",
   "execution_count": 18,
   "id": "abdbe069",
   "metadata": {},
   "outputs": [
    {
     "data": {
      "text/plain": [
       "Text(0.5, 17.200000000000003, 'Disputed issue count')"
      ]
     },
     "execution_count": 18,
     "metadata": {},
     "output_type": "execute_result"
    },
    {
     "data": {
      "image/png": "[encoded data removed]",
      "text/plain": [
       "<Figure size 1152x648 with 1 Axes>"
      ]
     },
     "metadata": {
      "needs_background": "light"
     },
     "output_type": "display_data"
    }
   ],
   "source": [
    "fig5, ax5 = plt.subplots(figsize=(16, 9))\n",
    "ax5.bar(disp_med['submitted_via'], disp_med['consumer_disputed?'])\n",
    "\n",
    "ax4.set_title(\"Disputed issue counts per submission medium\")\n",
    "ax4.set_xlabel('Medium')\n",
    "ax4.set_xlabel('Disputed issue count')"
   ]
  },
  {
   "cell_type": "code",
   "execution_count": 19,
   "id": "5c033a69",
   "metadata": {},
   "outputs": [
    {
     "data": {
      "text/plain": [
       "Text(0, 0.5, 'Disputed issue rate')"
      ]
     },
     "execution_count": 19,
     "metadata": {},
     "output_type": "execute_result"
    },
    {
     "data": {
      "image/png": "[encoded data removed]",
      "text/plain": [
       "<Figure size 1152x648 with 1 Axes>"
      ]
     },
     "metadata": {
      "needs_background": "light"
     },
     "output_type": "display_data"
    }
   ],
   "source": [
    "fig6, ax6 = plt.subplots(figsize=(16, 9))\n",
    "ax6.bar(disp_med['submitted_via'], disp_med['dispute_rate'])\n",
    "\n",
    "ax6.set_title(\"Disputed issue rates per submission medium\")\n",
    "ax6.set_xlabel('Medium')\n",
    "ax6.set_ylabel('Disputed issue rate')"
   ]
  },
  {
   "cell_type": "code",
   "execution_count": 21,
   "id": "52069de3",
   "metadata": {},
   "outputs": [],
   "source": [
    "df_by_med = df[['submitted_via', 'timely_response']].groupby(['submitted_via', 'timely_response']).size().reset_index()\n",
    "df_by_med = df_by_med[df_by_med['timely_response'] == 1]\n",
    "df_by_med.columns = ['submitted_via', 'was timely_response', 'count']"
   ]
  },
  {
   "cell_type": "code",
   "execution_count": 22,
   "id": "06157da5",
   "metadata": {},
   "outputs": [
    {
     "data": {
      "text/plain": [
       "Text(0, 0.5, 'Timely response count')"
      ]
     },
     "execution_count": 22,
     "metadata": {},
     "output_type": "execute_result"
    },
    {
     "data": {
      "image/png": "[encoded data removed]",
      "text/plain": [
       "<Figure size 1152x648 with 1 Axes>"
      ]
     },
     "metadata": {
      "needs_background": "light"
     },
     "output_type": "display_data"
    }
   ],
   "source": [
    "fig7, ax7 = plt.subplots(figsize=(16, 9))\n",
    "ax7.bar(df_by_med['submitted_via'], df_by_med['count'])\n",
    "\n",
    "ax7.set_title(\"Number of timely responses per submission medium\")\n",
    "ax7.set_xlabel('Medium')\n",
    "ax7.set_ylabel('Timely response count')"
   ]
  },
  {
   "cell_type": "markdown",
   "id": "86c3e653",
   "metadata": {},
   "source": [
    "### Analysis:\n",
    "Quicker, digital forms of communication such as *Email* and *Web* clearly have a higher dispute rate than *Postal mail* or *Referral*, however it should be noted that timeliness of the response does not hold much weight for digital forms. This could highlight the possible complacency/bureaucracy that these companies may have that causes them to give a clearly untimely response, and can also warrant further delving into the structure of customer service in such companies."
   ]
  },
  {
   "cell_type": "markdown",
   "id": "a6eae2cf",
   "metadata": {},
   "source": [
    "## Sentiment Analysis/Prediction:"
   ]
  },
  {
   "cell_type": "markdown",
   "id": "05f5c8e9",
   "metadata": {},
   "source": [
    "### Setting up data:\n",
    "Since the key data is categorical in nature we can use *one-hot encoding* for it as there is no ordinal relationship in any of the data that is being used."
   ]
  },
  {
   "cell_type": "code",
   "execution_count": 30,
   "id": "c380bd0b",
   "metadata": {},
   "outputs": [
    {
     "data": {
      "text/html": [
       "<div>\n",
       "<style scoped>\n",
       "    .dataframe tbody tr th:only-of-type {\n",
       "        vertical-align: middle;\n",
       "    }\n",
       "\n",
       "    .dataframe tbody tr th {\n",
       "        vertical-align: top;\n",
       "    }\n",
       "\n",
       "    .dataframe thead th {\n",
       "        text-align: right;\n",
       "    }\n",
       "</style>\n",
       "<table border=\"1\" class=\"dataframe\">\n",
       "  <thead>\n",
       "    <tr style=\"text-align: right;\">\n",
       "      <th></th>\n",
       "      <th>date_received</th>\n",
       "      <th>company</th>\n",
       "      <th>zipcode</th>\n",
       "      <th>date_sent_to_company</th>\n",
       "      <th>company_response_to_consumer</th>\n",
       "      <th>timely_response</th>\n",
       "      <th>consumer_disputed?</th>\n",
       "      <th>product_Bank account or service</th>\n",
       "      <th>product_Consumer Loan</th>\n",
       "      <th>product_Credit card</th>\n",
       "      <th>...</th>\n",
       "      <th>state_WA</th>\n",
       "      <th>state_WI</th>\n",
       "      <th>state_WV</th>\n",
       "      <th>state_WY</th>\n",
       "      <th>submitted_via_Email</th>\n",
       "      <th>submitted_via_Fax</th>\n",
       "      <th>submitted_via_Phone</th>\n",
       "      <th>submitted_via_Postal mail</th>\n",
       "      <th>submitted_via_Referral</th>\n",
       "      <th>submitted_via_Web</th>\n",
       "    </tr>\n",
       "  </thead>\n",
       "  <tbody>\n",
       "    <tr>\n",
       "      <th>0</th>\n",
       "      <td>735110</td>\n",
       "      <td>U.S. Bancorp</td>\n",
       "      <td>95993</td>\n",
       "      <td>735114</td>\n",
       "      <td>1</td>\n",
       "      <td>1</td>\n",
       "      <td>1</td>\n",
       "      <td>0</td>\n",
       "      <td>0</td>\n",
       "      <td>0</td>\n",
       "      <td>...</td>\n",
       "      <td>0</td>\n",
       "      <td>0</td>\n",
       "      <td>0</td>\n",
       "      <td>0</td>\n",
       "      <td>0</td>\n",
       "      <td>0</td>\n",
       "      <td>0</td>\n",
       "      <td>0</td>\n",
       "      <td>1</td>\n",
       "      <td>0</td>\n",
       "    </tr>\n",
       "    <tr>\n",
       "      <th>1</th>\n",
       "      <td>735110</td>\n",
       "      <td>Wells Fargo &amp; Company</td>\n",
       "      <td>91104</td>\n",
       "      <td>735114</td>\n",
       "      <td>1</td>\n",
       "      <td>1</td>\n",
       "      <td>1</td>\n",
       "      <td>0</td>\n",
       "      <td>0</td>\n",
       "      <td>0</td>\n",
       "      <td>...</td>\n",
       "      <td>0</td>\n",
       "      <td>0</td>\n",
       "      <td>0</td>\n",
       "      <td>0</td>\n",
       "      <td>0</td>\n",
       "      <td>0</td>\n",
       "      <td>0</td>\n",
       "      <td>0</td>\n",
       "      <td>1</td>\n",
       "      <td>0</td>\n",
       "    </tr>\n",
       "    <tr>\n",
       "      <th>2</th>\n",
       "      <td>735110</td>\n",
       "      <td>Wells Fargo &amp; Company</td>\n",
       "      <td>11764</td>\n",
       "      <td>735129</td>\n",
       "      <td>1</td>\n",
       "      <td>1</td>\n",
       "      <td>0</td>\n",
       "      <td>0</td>\n",
       "      <td>0</td>\n",
       "      <td>0</td>\n",
       "      <td>...</td>\n",
       "      <td>0</td>\n",
       "      <td>0</td>\n",
       "      <td>0</td>\n",
       "      <td>0</td>\n",
       "      <td>0</td>\n",
       "      <td>0</td>\n",
       "      <td>0</td>\n",
       "      <td>1</td>\n",
       "      <td>0</td>\n",
       "      <td>0</td>\n",
       "    </tr>\n",
       "    <tr>\n",
       "      <th>3</th>\n",
       "      <td>735110</td>\n",
       "      <td>Navient Solutions, Inc.</td>\n",
       "      <td>21402</td>\n",
       "      <td>735110</td>\n",
       "      <td>1</td>\n",
       "      <td>1</td>\n",
       "      <td>1</td>\n",
       "      <td>0</td>\n",
       "      <td>0</td>\n",
       "      <td>0</td>\n",
       "      <td>...</td>\n",
       "      <td>0</td>\n",
       "      <td>0</td>\n",
       "      <td>0</td>\n",
       "      <td>0</td>\n",
       "      <td>1</td>\n",
       "      <td>0</td>\n",
       "      <td>0</td>\n",
       "      <td>0</td>\n",
       "      <td>0</td>\n",
       "      <td>0</td>\n",
       "    </tr>\n",
       "    <tr>\n",
       "      <th>4</th>\n",
       "      <td>735110</td>\n",
       "      <td>Resurgent Capital Services L.P.</td>\n",
       "      <td>30106</td>\n",
       "      <td>735110</td>\n",
       "      <td>1</td>\n",
       "      <td>1</td>\n",
       "      <td>1</td>\n",
       "      <td>0</td>\n",
       "      <td>0</td>\n",
       "      <td>0</td>\n",
       "      <td>...</td>\n",
       "      <td>0</td>\n",
       "      <td>0</td>\n",
       "      <td>0</td>\n",
       "      <td>0</td>\n",
       "      <td>0</td>\n",
       "      <td>0</td>\n",
       "      <td>0</td>\n",
       "      <td>0</td>\n",
       "      <td>0</td>\n",
       "      <td>1</td>\n",
       "    </tr>\n",
       "  </tbody>\n",
       "</table>\n",
       "<p>5 rows × 181 columns</p>\n",
       "</div>"
      ],
      "text/plain": [
       "   date_received                          company zipcode  \\\n",
       "0         735110                     U.S. Bancorp   95993   \n",
       "1         735110            Wells Fargo & Company   91104   \n",
       "2         735110            Wells Fargo & Company   11764   \n",
       "3         735110          Navient Solutions, Inc.   21402   \n",
       "4         735110  Resurgent Capital Services L.P.   30106   \n",
       "\n",
       "   date_sent_to_company company_response_to_consumer  timely_response  \\\n",
       "0                735114                            1                1   \n",
       "1                735114                            1                1   \n",
       "2                735129                            1                1   \n",
       "3                735110                            1                1   \n",
       "4                735110                            1                1   \n",
       "\n",
       "   consumer_disputed?  product_Bank account or service  product_Consumer Loan  \\\n",
       "0                   1                                0                      0   \n",
       "1                   1                                0                      0   \n",
       "2                   0                                0                      0   \n",
       "3                   1                                0                      0   \n",
       "4                   1                                0                      0   \n",
       "\n",
       "   product_Credit card  ...  state_WA  state_WI  state_WV  state_WY  \\\n",
       "0                    0  ...         0         0         0         0   \n",
       "1                    0  ...         0         0         0         0   \n",
       "2                    0  ...         0         0         0         0   \n",
       "3                    0  ...         0         0         0         0   \n",
       "4                    0  ...         0         0         0         0   \n",
       "\n",
       "   submitted_via_Email  submitted_via_Fax  submitted_via_Phone  \\\n",
       "0                    0                  0                    0   \n",
       "1                    0                  0                    0   \n",
       "2                    0                  0                    0   \n",
       "3                    1                  0                    0   \n",
       "4                    0                  0                    0   \n",
       "\n",
       "   submitted_via_Postal mail  submitted_via_Referral  submitted_via_Web  \n",
       "0                          0                       1                  0  \n",
       "1                          0                       1                  0  \n",
       "2                          1                       0                  0  \n",
       "3                          0                       0                  0  \n",
       "4                          0                       0                  1  \n",
       "\n",
       "[5 rows x 181 columns]"
      ]
     },
     "execution_count": 30,
     "metadata": {},
     "output_type": "execute_result"
    }
   ],
   "source": [
    "#Converting dates to numerical values instead of datetime\n",
    "date_cols = ['date_received', 'date_sent_to_company']\n",
    "for date_col in date_cols:\n",
    "    df[date_col] = df[date_col].apply(pd.Timestamp.toordinal)\n",
    "\n",
    "analysis_cols = ['product', 'issue', 'state', 'submitted_via']\n",
    "encoded = df\n",
    "for c in analysis_cols:\n",
    "    c_encoded = pd.get_dummies(encoded[c], prefix=c)\n",
    "    encoded = pd.concat((encoded, c_encoded), axis=1).drop(c, axis=1)\n",
    "encoded.head()    "
   ]
  },
  {
   "cell_type": "code",
   "execution_count": 31,
   "id": "44062878",
   "metadata": {},
   "outputs": [],
   "source": [
    "X = encoded.drop(['company', 'zipcode', 'consumer_disputed?'], axis=1)\n",
    "y = encoded['consumer_disputed?']\n",
    "X_tr, X_t, y_tr, y_t = train_test_split(X, y, test_size=0.2, random_state=0)"
   ]
  },
  {
   "cell_type": "markdown",
   "id": "b0de514c",
   "metadata": {},
   "source": [
    "**First using Logistic Regression to classify one-hot-encoded features:**"
   ]
  },
  {
   "cell_type": "code",
   "execution_count": 33,
   "id": "25a11427",
   "metadata": {},
   "outputs": [
    {
     "name": "stdout",
     "output_type": "stream",
     "text": [
      "Classifier accuracy is 0.7980160443197353\n"
     ]
    }
   ],
   "source": [
    "classifier1 = LogisticRegression()\n",
    "classifier1.fit(X_tr, y_tr)\n",
    "y_pred = classifier1.predict(X_t)\n",
    "\n",
    "print(\"Classifier accuracy is\", accuracy_score(y_t, y_pred))"
   ]
  },
  {
   "cell_type": "code",
   "execution_count": 40,
   "id": "a3ce0650",
   "metadata": {},
   "outputs": [
    {
     "name": "stderr",
     "output_type": "stream",
     "text": [
      "/Users/aryanvakharia/opt/anaconda3/lib/python3.9/site-packages/sklearn/utils/deprecation.py:87: FutureWarning: Function plot_confusion_matrix is deprecated; Function `plot_confusion_matrix` is deprecated in 1.0 and will be removed in 1.2. Use one of the class methods: ConfusionMatrixDisplay.from_predictions or ConfusionMatrixDisplay.from_estimator.\n",
      "  warnings.warn(msg, category=FutureWarning)\n"
     ]
    },
    {
     "data": {
      "text/plain": [
       "<sklearn.metrics._plot.confusion_matrix.ConfusionMatrixDisplay at 0x7f949e790ee0>"
      ]
     },
     "execution_count": 40,
     "metadata": {},
     "output_type": "execute_result"
    },
    {
     "data": {
      "image/png": "[encoded data removed]",
      "text/plain": [
       "<Figure size 432x288 with 2 Axes>"
      ]
     },
     "metadata": {
      "needs_background": "light"
     },
     "output_type": "display_data"
    }
   ],
   "source": [
    "plot_confusion_matrix(classifier1, X_t, y_t, cmap=plt.cm.Greens)"
   ]
  },
  {
   "cell_type": "markdown",
   "id": "141b8875",
   "metadata": {},
   "source": [
    "### Analysis:\n",
    "As we can see the classifier needs a great deal of work to accurately predict a disputed complaint as the above confusion matrix shows that a true disputed complaint is not recognized by the classifier."
   ]
  },
  {
   "cell_type": "markdown",
   "id": "730fb665",
   "metadata": {},
   "source": [
    "**Using Random Forest Classifier to better prediction:**"
   ]
  },
  {
   "cell_type": "code",
   "execution_count": 52,
   "id": "fc0a33cc",
   "metadata": {},
   "outputs": [
    {
     "name": "stdout",
     "output_type": "stream",
     "text": [
      "Classifier accuracy is 0.7119846751564861\n"
     ]
    }
   ],
   "source": [
    "classifier2 = DecisionTreeClassifier(random_state=42)\n",
    "classifier2.fit(X_tr, y_tr)\n",
    "y_pred = classifier2.predict(X_t)\n",
    "\n",
    "print(\"Classifier accuracy is\", accuracy_score(y_t, y_pred))"
   ]
  },
  {
   "cell_type": "code",
   "execution_count": 53,
   "id": "0435bfbf",
   "metadata": {},
   "outputs": [
    {
     "name": "stderr",
     "output_type": "stream",
     "text": [
      "/Users/aryanvakharia/opt/anaconda3/lib/python3.9/site-packages/sklearn/utils/deprecation.py:87: FutureWarning: Function plot_confusion_matrix is deprecated; Function `plot_confusion_matrix` is deprecated in 1.0 and will be removed in 1.2. Use one of the class methods: ConfusionMatrixDisplay.from_predictions or ConfusionMatrixDisplay.from_estimator.\n",
      "  warnings.warn(msg, category=FutureWarning)\n"
     ]
    },
    {
     "data": {
      "text/plain": [
       "<sklearn.metrics._plot.confusion_matrix.ConfusionMatrixDisplay at 0x7f949e996040>"
      ]
     },
     "execution_count": 53,
     "metadata": {},
     "output_type": "execute_result"
    },
    {
     "data": {
      "image/png": "[encoded data removed]",
      "text/plain": [
       "<Figure size 432x288 with 2 Axes>"
      ]
     },
     "metadata": {
      "needs_background": "light"
     },
     "output_type": "display_data"
    }
   ],
   "source": [
    "plot_confusion_matrix(classifier2, X_t, y_t, cmap=plt.cm.Reds)"
   ]
  },
  {
   "cell_type": "code",
   "execution_count": 57,
   "id": "2862af72",
   "metadata": {},
   "outputs": [
    {
     "name": "stdout",
     "output_type": "stream",
     "text": [
      "              precision    recall  f1-score   support\n",
      "\n",
      "           0       0.81      0.84      0.82     88733\n",
      "           1       0.26      0.23      0.24     22459\n",
      "\n",
      "    accuracy                           0.71    111192\n",
      "   macro avg       0.53      0.53      0.53    111192\n",
      "weighted avg       0.70      0.71      0.70    111192\n",
      "\n"
     ]
    }
   ],
   "source": [
    "print(classification_report(y_t, y_pred))"
   ]
  },
  {
   "cell_type": "markdown",
   "id": "52f413a8",
   "metadata": {},
   "source": [
    "### Analysis:\n",
    "The decision tree model has a lower accuracy but because it deals with the categorical data better it manages to correctly predict some of the disputed issues."
   ]
  },
  {
   "cell_type": "markdown",
   "id": "c04cfc62",
   "metadata": {},
   "source": [
    "## Conclusion:"
   ]
  },
  {
   "cell_type": "markdown",
   "id": "ce1b2eb9",
   "metadata": {},
   "source": [
    "Since both models are very quick and dirty, detailed parsing of the data using the *nltk* library would be ideal in getting a higher recall and higher number of true positive recognition in the future.\n",
    "\n",
    "However, the visualizations and insights provided by the dataset do inform of key areas for our company to be wary and cautious of, and with constant improvement of data preparation and more robust training models there lies a higher scope of predicting disputed issues and even company responses."
   ]
  }
 ],
 "metadata": {
  "kernelspec": {
   "display_name": "Python 3 (ipykernel)",
   "language": "python",
   "name": "python3"
  },
  "language_info": {
   "codemirror_mode": {
    "name": "ipython",
    "version": 3
   },
   "file_extension": ".py",
   "mimetype": "text/x-python",
   "name": "python",
   "nbconvert_exporter": "python",
   "pygments_lexer": "ipython3",
   "version": "3.9.12"
  }
 },
 "nbformat": 4,
 "nbformat_minor": 5
}
